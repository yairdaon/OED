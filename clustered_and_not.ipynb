{
 "cells": [
  {
   "cell_type": "code",
   "execution_count": 1,
   "id": "2e896f95",
   "metadata": {},
   "outputs": [],
   "source": [
    "import numpy as np\n",
    "from zeros import *\n",
    "\n",
    "def OstarO(A, n=7):\n",
    "    return (A.T @ A).round(n)"
   ]
  },
  {
   "cell_type": "code",
   "execution_count": 2,
   "id": "f1eae26e-bc66-495e-90e1-40e745dd431d",
   "metadata": {},
   "outputs": [
    {
     "data": {
      "text/plain": [
       "array([[2.55, 0.  , 0.  , 0.  , 0.  ],\n",
       "       [0.  , 2.45, 0.  , 0.  , 0.  ],\n",
       "       [0.  , 0.  , 0.  , 0.  , 0.  ],\n",
       "       [0.  , 0.  , 0.  , 0.  , 0.  ],\n",
       "       [0.  , 0.  , 0.  , 0.  , 0.  ]])"
      ]
     },
     "execution_count": 2,
     "metadata": {},
     "output_type": "execute_result"
    }
   ],
   "source": [
    "m = 5 # Number of measurements\n",
    "k = 2 # Rank of O^*O\n",
    "\n",
    "## Diagonalized prior \n",
    "prior = np.eye(m) * 100\n",
    "prior[0,0] = 0.1\n",
    "prior[1,1] = 0.2\n",
    "prior[2,2] = 4\n",
    "\n",
    "## The posterior precision at the first k eigenvectors \n",
    "precision = m/k + np.mean(np.diag(prior)[:k])\n",
    "\n",
    "\n",
    "# M = O^*O\n",
    "M = np.zeros((m,m))\n",
    "for i in range(k):\n",
    "    M[i,i] = precision - prior[i,i]\n",
    "\n",
    "## Find O such that O^*O = M and O has unit norm rows\n",
    "O = get_A(M, m).T\n",
    "OstarO(O)\n",
    "\n",
    "## Since O[2,:] = -O[4,:] we have clusterization"
   ]
  },
  {
   "cell_type": "markdown",
   "id": "3c0ee7d9",
   "metadata": {},
   "source": [
    "# Clustered\n"
   ]
  },
  {
   "cell_type": "code",
   "execution_count": 59,
   "id": "89a6cf65",
   "metadata": {},
   "outputs": [
    {
     "data": {
      "text/plain": [
       "array([[ 2.55, -0.  ],\n",
       "       [-0.  ,  2.45]])"
      ]
     },
     "execution_count": 59,
     "metadata": {},
     "output_type": "execute_result"
    }
   ],
   "source": [
    "m = 5\n",
    "k = 2\n",
    "\n",
    "o1o2 = get_A(np.diag([0.55, 1.45]), k).T\n",
    "\n",
    "O = np.zeros((m,k))\n",
    "O[:2,:2] = o1o2\n",
    "O[2,1] = 1\n",
    "O[3,0] = 1\n",
    "O[4,0] = 1\n",
    "\n",
    "# Returns O^*O\n",
    "OstarO(O)"
   ]
  },
  {
   "cell_type": "markdown",
   "id": "13b04fac",
   "metadata": {},
   "source": [
    "# Not Clustered\n"
   ]
  },
  {
   "cell_type": "code",
   "execution_count": 3,
   "id": "60aa8570",
   "metadata": {},
   "outputs": [
    {
     "name": "stdout",
     "output_type": "stream",
     "text": [
      "[[2.55 0.  ]\n",
      " [0.   2.45]]\n",
      "[[2.55 0.  ]\n",
      " [0.   2.45]]\n"
     ]
    }
   ],
   "source": [
    "m = 5\n",
    "k = 2\n",
    "\n",
    "o1o2 = get_A(np.diag([0.75, 1.25]), k).T\n",
    "o3o4 = get_A(np.diag([0.8, 1.2]), k).T\n",
    "\n",
    "O = np.zeros((m,k))\n",
    "O[:2,:2] = o1o2 \n",
    "O[2:4,:2] = o3o4\n",
    "O[4,0] = 1\n",
    "\n",
    "# Returns O^*O\n",
    "print(OstarO(O))\n",
    "\n",
    "# Looks nicer\n",
    "O = np.array([\n",
    "    [np.sqrt(3/8), -np.sqrt(5/8)],\n",
    "    [np.sqrt(3/8),  np.sqrt(5/8)],\n",
    "    [np.sqrt(2/5), -np.sqrt(3/5)],\n",
    "    [np.sqrt(2/5),  np.sqrt(3/5)],\n",
    "    [1,             0           ]        \n",
    "])\n",
    "\n",
    "# Returns O^*O\n",
    "print(OstarO(O))"
   ]
  },
  {
   "cell_type": "code",
   "execution_count": null,
   "id": "0eb5c019",
   "metadata": {},
   "outputs": [],
   "source": []
  },
  {
   "cell_type": "code",
   "execution_count": null,
   "id": "a8db0dc8",
   "metadata": {},
   "outputs": [],
   "source": []
  },
  {
   "cell_type": "code",
   "execution_count": null,
   "id": "e4c5b91c",
   "metadata": {},
   "outputs": [],
   "source": []
  },
  {
   "cell_type": "code",
   "execution_count": null,
   "id": "ad741d9c",
   "metadata": {},
   "outputs": [],
   "source": []
  },
  {
   "cell_type": "code",
   "execution_count": null,
   "id": "d001a1f5",
   "metadata": {},
   "outputs": [],
   "source": []
  }
 ],
 "metadata": {
  "kernelspec": {
   "display_name": "Python 3 (ipykernel)",
   "language": "python",
   "name": "python3"
  },
  "language_info": {
   "codemirror_mode": {
    "name": "ipython",
    "version": 3
   },
   "file_extension": ".py",
   "mimetype": "text/x-python",
   "name": "python",
   "nbconvert_exporter": "python",
   "pygments_lexer": "ipython3",
   "version": "3.9.15"
  }
 },
 "nbformat": 4,
 "nbformat_minor": 5
}
