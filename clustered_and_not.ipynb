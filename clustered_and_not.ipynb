{
 "cells": [
  {
   "cell_type": "code",
   "execution_count": 1,
   "id": "2e896f95",
   "metadata": {},
   "outputs": [],
   "source": [
    "import numpy as np\n",
    "from zeros import *\n",
    "\n",
    "def OstarO(A, n=7):\n",
    "    return (A.T @ A).round(n)"
   ]
  },
  {
   "cell_type": "code",
   "execution_count": 2,
   "id": "f1eae26e-bc66-495e-90e1-40e745dd431d",
   "metadata": {
    "scrolled": true
   },
   "outputs": [
    {
     "data": {
      "text/plain": [
       "array([[2.55, 0.  , 0.  , 0.  , 0.  ],\n",
       "       [0.  , 2.45, 0.  , 0.  , 0.  ],\n",
       "       [0.  , 0.  , 0.  , 0.  , 0.  ],\n",
       "       [0.  , 0.  , 0.  , 0.  , 0.  ],\n",
       "       [0.  , 0.  , 0.  , 0.  , 0.  ]])"
      ]
     },
     "execution_count": 2,
     "metadata": {},
     "output_type": "execute_result"
    }
   ],
   "source": [
    "m = 5 # Number of measurements\n",
    "k = 2 # Rank of O^*O\n",
    "\n",
    "## Diagonalized prior \n",
    "prior = np.eye(m) * 100\n",
    "prior[0,0] = 0.1\n",
    "prior[1,1] = 0.2\n",
    "prior[2,2] = 4\n",
    "\n",
    "## The posterior precision at the first k eigenvectors \n",
    "precision = m/k + np.mean(np.diag(prior)[:k])\n",
    "\n",
    "\n",
    "# M = O^*O\n",
    "M = np.zeros((m,m))\n",
    "for i in range(k):\n",
    "    M[i,i] = precision - prior[i,i]\n",
    "\n",
    "## Find O such that O^*O = M and O has unit norm rows\n",
    "O = get_A(M, m).T\n",
    "OstarO(O)\n",
    "\n",
    "## Since O[2,:] = -O[4,:] we have clusterization"
   ]
  },
  {
   "cell_type": "markdown",
   "id": "3c0ee7d9",
   "metadata": {},
   "source": [
    "# Clustered\n"
   ]
  },
  {
   "cell_type": "code",
   "execution_count": null,
   "id": "89a6cf65",
   "metadata": {
    "jupyter": {
     "is_executing": true
    }
   },
   "outputs": [],
   "source": [
    "m = 5 ## Number of measurements\n",
    "k = 2 ## RankO^*O\n",
    "\n",
    "o1o2 = get_A(np.diag([0.55, 1.45]), k).T\n",
    "\n",
    "O = np.zeros((m,k))\n",
    "O[:2,:2] = o1o2\n",
    "O[2,1] = 1\n",
    "O[3,0] = 1\n",
    "O[4,0] = 1\n",
    "\n",
    "# Returns O^*O\n",
    "OstarO(O)"
   ]
  },
  {
   "cell_type": "markdown",
   "id": "13b04fac",
   "metadata": {},
   "source": [
    "# Not Clustered\n"
   ]
  },
  {
   "cell_type": "code",
   "execution_count": 4,
   "id": "60aa8570",
   "metadata": {},
   "outputs": [
    {
     "name": "stdout",
     "output_type": "stream",
     "text": [
      "[[2.55 0.  ]\n",
      " [0.   2.45]]\n",
      "[[2.55 0.  ]\n",
      " [0.   2.45]]\n"
     ]
    }
   ],
   "source": [
    "m = 5\n",
    "k = 2\n",
    "\n",
    "o1o2 = get_A(np.diag([0.75, 1.25]), k).T\n",
    "o3o4 = get_A(np.diag([0.8, 1.2]), k).T\n",
    "\n",
    "O = np.zeros((m,k))\n",
    "O[:2,:2] = o1o2 \n",
    "O[2:4,:2] = o3o4\n",
    "O[4,0] = 1\n",
    "\n",
    "# Returns O^*O\n",
    "print(OstarO(O))\n",
    "\n",
    "# Looks nicer\n",
    "O = np.array([\n",
    "    [np.sqrt(3/8), -np.sqrt(5/8)],\n",
    "    [np.sqrt(3/8),  np.sqrt(5/8)],\n",
    "    [np.sqrt(2/5), -np.sqrt(3/5)],\n",
    "    [np.sqrt(2/5),  np.sqrt(3/5)],\n",
    "    [1,             0           ]        \n",
    "])\n",
    "\n",
    "# Returns O^*O\n",
    "print(OstarO(O))"
   ]
  },
  {
   "cell_type": "code",
   "execution_count": null,
   "id": "0eb5c019",
   "metadata": {},
   "outputs": [],
   "source": []
  },
  {
   "cell_type": "markdown",
   "id": "44cd7e0a",
   "metadata": {},
   "source": [
    "# Example of clusterization:\n",
    "We show an example of clusterization in the inverse problem of the 1D heat equation. The inverse problem is implemented in the frequency domain via Fourier multipliers, where the Laplace operator is diagonal. See code in src/ for details on the implementation."
   ]
  },
  {
   "cell_type": "code",
   "execution_count": 6,
   "id": "e4c5b91c",
   "metadata": {},
   "outputs": [
    {
     "name": "stdout",
     "output_type": "stream",
     "text": [
      "Using matplotlib backend: QtAgg\n",
      "3 [0.26572189 0.63938115 0.78846612]\n",
      "4 [0.21231986 0.32843671 0.66656332 0.78268017]\n",
      "5 [0.22932261 0.22932265 0.49749985 0.76567723 0.7656773 ]\n"
     ]
    }
   ],
   "source": [
    "import numpy as np\n",
    "from matplotlib import pyplot as plt\n",
    "from functools import partial\n",
    "from joblib import Parallel, delayed\n",
    "\n",
    "from scipy.linalg import solve\n",
    "from scipy.optimize import minimize, LinearConstraint\n",
    "\n",
    "from src.probability import Prior, Posterior\n",
    "from src.forward import Heat\n",
    "from src.observations import PointObservation, DiagObservation\n",
    "from src.multiplier import FourierMultiplier\n",
    "\n",
    "%matplotlib\n",
    "\n",
    "\n",
    "sig = 5e-2 ## Observation error\n",
    "N = 200 ## Number of discretization points in the domain\n",
    "L = 1 ## Length of the domain\n",
    "time = 3e-2 ## Time for a forward run the heat equation (i.e. time of heat dissipation)\n",
    "alpha = 1. ## Coefficient\n",
    "gamma = -1.\n",
    "model_error = 0 ## Coefficient of model error term. if  == 0  then no model error is present.\n",
    "\n",
    "\n",
    "## DST / DCT - discrete sine / cosine transform. \n",
    "## Corresponds to a homogeneous Dirichlet/ Neumann boundary condition.\n",
    "## Clusterization also happens with Neumann boundary, I just chose to present \n",
    "## Dirichlet boundary in the paper\n",
    "dst, dct = {}, {}\n",
    "for transform in  ['dst']:#, 'dct']:\n",
    "    delta = 0. if transform == 'dst' else 0.5\n",
    "    fwd = Heat(N=N, L=L, transform=transform, alpha=alpha, time=time)\n",
    "    pr = Prior(N=N, L=L, transform=transform, gamma=gamma, delta=delta)\n",
    "   \n",
    "    post = Posterior(fwd=fwd,\n",
    "                     prior=pr,\n",
    "                     sigSqr=sig**2,\n",
    "                     L=L,\n",
    "                     N=N,\n",
    "                     transform=transform,\n",
    "                     model_error=model_error\n",
    "                     ) \n",
    "    dic = dst if transform == 'dst' else dct\n",
    "    for m in range(3,6):\n",
    "        print(m, end=' ')\n",
    "        res = post.optimize(m=m, n_iterations=250, n_jobs=-1)\n",
    "        design = res['x']\n",
    "        dic[m] = design\n",
    "        print(design)\n",
    "\n",
    "\n",
    "fs = 24\n",
    "fig, ax = plt.subplots(figsize=(10,5))\n",
    "\n",
    "for m, array in dst.items():\n",
    "    colors = iter(list(\"brgkm\"))\n",
    "\n",
    "    vals = np.repeat(m, len(array))\n",
    "    ax.scatter(array, vals, s=0)\n",
    "    for i, val in enumerate(array):\n",
    "        ax.annotate(str(i+1),\n",
    "                    xy=(val, m),\n",
    "                    ha='center', \n",
    "                    va='center',\n",
    "                    fontsize=fs,\n",
    "                    color=next(colors))\n",
    "            \n",
    "\n",
    "ax.set_xlabel('Measurement Location', fontsize=fs)\n",
    "ax.set_ylabel('No. of Measurements', fontsize=fs)\n",
    "ax.set_yticks(list(dst.keys()))\n",
    "ax.set_xlim(0,1)\n",
    "plt.tight_layout()\n",
    "\n",
    "plt.show()\n",
    "#plt.savefig(\"latex/example.pdf\")\n",
    "#plt.close()\n"
   ]
  },
  {
   "cell_type": "code",
   "execution_count": 49,
   "id": "ac2c27b0",
   "metadata": {},
   "outputs": [
    {
     "data": {
      "text/plain": [
       "array([[ 1.29194838,  1.05096549, -0.30901699],\n",
       "       [ 1.29194838,  1.05096549, -0.30901699]])"
      ]
     },
     "execution_count": 49,
     "metadata": {},
     "output_type": "execute_result"
    }
   ],
   "source": [
    "meas = [0.2, 0.2]\n",
    "N = 3\n",
    "\n",
    "pr = probability.Prior(N=N, L=L, transform=transform, gamma=gamma, delta=delta)\n",
    "\n",
    "obs = PointObservation(N=N, L=L, transform=transform, measurements=meas)\n",
    "m = len(meas)\n",
    "model_error_covariance = pr.multiplier\n",
    "Sigma = 5e-2 *np.eye(m) + np.einsum('ik, k, kj->ij', obs.multiplier, model_error_covariance, obs.multiplier.conjugate().T)\n",
    "OstarO = obs.multiplier.conjugate().T @ np.linalg.solve(Sigma, obs.multiplier)\n",
    "\n",
    "OstarO\n",
    "obs.multiplier"
   ]
  },
  {
   "cell_type": "markdown",
   "id": "9e00f7b2",
   "metadata": {},
   "source": [
    "# Eigenvectors and clusterization"
   ]
  },
  {
   "cell_type": "code",
   "execution_count": 6,
   "id": "402f1dd9",
   "metadata": {},
   "outputs": [
    {
     "name": "stdout",
     "output_type": "stream",
     "text": [
      "Using matplotlib backend: QtAgg\n",
      "[0.3066907  0.30669072 0.68830928 0.6883093 ]\n"
     ]
    }
   ],
   "source": [
    "import numpy as np\n",
    "from matplotlib import pyplot as plt\n",
    "\n",
    "from src.probability import Prior, Posterior\n",
    "from src.forward import Heat\n",
    "from src.observations import PointObservation, DiagObservation\n",
    "\n",
    "%matplotlib\n",
    "\n",
    "sig = 5e-2\n",
    "N = 200\n",
    "L = 1\n",
    "time = 3e-2\n",
    "alpha = 1.\n",
    "gamma = -1.\n",
    "m = 4\n",
    "transform = 'dst'\n",
    "delta = 0. if transform == 'dst' else 0.5\n",
    "\n",
    "fwd = Heat(N=N, L=L, transform=transform, alpha=alpha, time=time)\n",
    "pr = Prior(N=N, L=L, transform=transform, gamma=gamma, delta=delta)\n",
    "post = Posterior(fwd=fwd,\n",
    "                 prior=pr,\n",
    "                 sigSqr=sig**2,\n",
    "                 L=L,\n",
    "                 N=N,\n",
    "                 transform=transform)\n",
    "\n",
    "res = post.optimize(m=m, n_iterations=250)\n",
    "print(res['x'])"
   ]
  },
  {
   "cell_type": "code",
   "execution_count": 7,
   "id": "d001a1f5",
   "metadata": {},
   "outputs": [],
   "source": [
    "plt.close('all')\n",
    "fig = plt.figure(figsize=(8,4))\n",
    "fs = 18\n",
    "lss = ['solid', 'dotted', 'dashed', 'dashdot']\n",
    "vals = np.zeros(m)\n",
    "plt.scatter(res['x'], vals)\n",
    "x = fwd.x\n",
    "for i,ls in enumerate(lss):\n",
    "    ev = fwd.eigenvector(i)\n",
    "    lam = np.sqrt(fwd.multiplier[i])\n",
    "    plt.plot(x, ev * lam, label=i+1, ls=ls)\n",
    "plt.plot([0,1], [0,0], ls='-', color='k', alpha=0.5)    \n",
    "plt.xlabel(r\"$x \\in \\Omega$\", fontsize=fs)\n",
    "plt.legend(title='eigenvector, weighted')\n",
    "plt.tight_layout()\n",
    "plt.savefig(\"latex/eigenvectors.pdf\")\n",
    "#plt.close('all')"
   ]
  },
  {
   "cell_type": "code",
   "execution_count": null,
   "id": "7f21f83b",
   "metadata": {},
   "outputs": [],
   "source": []
  },
  {
   "cell_type": "markdown",
   "id": "6b9824c0617f1dbe",
   "metadata": {},
   "source": [
    "# Generate animations of 1D heat equation: forward and backwards in time"
   ]
  },
  {
   "cell_type": "code",
   "execution_count": 2,
   "id": "42905da7",
   "metadata": {},
   "outputs": [
    {
     "name": "stdout",
     "output_type": "stream",
     "text": [
      "Using matplotlib backend: QtAgg\n",
      "Done forward simulation\n",
      "Done forward animation\n",
      "Done backwards animation\n"
     ]
    }
   ],
   "source": [
    "import numpy as np\n",
    "import matplotlib.pyplot as plt\n",
    "import matplotlib.animation as animation\n",
    "from src.forward import Heat\n",
    "from src.probability import Prior\n",
    "\n",
    "%matplotlib\n",
    "\n",
    "np.random.seed(19)\n",
    "\n",
    "plt.close('all')\n",
    "sig = 5e-2\n",
    "\n",
    "n = 800\n",
    "N = 500\n",
    "L = 1\n",
    "delta_t = 1e-5\n",
    "alpha = 1e-8\n",
    "gamma = -1.2\n",
    "acceleration = 3\n",
    "\n",
    "pr = Prior(N=N, L=L, transform='dst', gamma=gamma, delta=0.)\n",
    "u = pr.sample(n_sample=100)\n",
    "ind = np.where(np.all(u > 0, axis=1))[0]\n",
    "u = u[ind[0],:]\n",
    "\n",
    "\n",
    "us = [u]\n",
    "times = [0]\n",
    "for k in range(n):\n",
    "    dt = delta_t*k**acceleration\n",
    "    fwd = Heat(N=N, L=L, transform='dst', alpha=alpha, time=dt)\n",
    "    u = fwd(u)\n",
    "    us.append(u)\n",
    "    times.append(times[-1] + dt)\n",
    "us = np.vstack(us)\n",
    "print('Done forward simulation')\n",
    "\n",
    "fig, ax = plt.subplots()\n",
    "line, = ax.plot(fwd.x, us[0, :], color='k')\n",
    "ax.set_xlim(0, 1)\n",
    "#ax.set_ylim(np.min(u), np.max(u))\n",
    "ax.set_xlabel('Position')\n",
    "ax.set_ylabel('Temperature')\n",
    "plt.savefig('forward_heat_equation.png')\n",
    "\n",
    "time_template = 'Time elapsed {}' \n",
    "time_text = ax.text(0.95, 0.95, '', transform=ax.transAxes, ha='right', va='top')\n",
    "\n",
    "def update(frame):\n",
    "    tt = times[frame]#tt = frame**acceleration * time    \n",
    "    tt = int(tt)\n",
    "    time_text.set_text(time_template.format(tt))\n",
    "    line.set_ydata(us[frame, :])\n",
    "    return line, time_text\n",
    "\n",
    "ani = animation.FuncAnimation(fig, update, frames=n, blit=True)\n",
    "ani.save('forward_heat_equation.mp4', writer='ffmpeg', fps=30)\n",
    "print('Done forward animation')\n",
    "plt.show()\n",
    "\n",
    "plt.close('all')\n",
    "\n",
    "## Reverse\n",
    "fig, ax = plt.subplots()\n",
    "line, = ax.plot(fwd.x, us[-1, :], color='k')\n",
    "ax.set_xlim(0, 1)\n",
    "#ax.set_ylim(np.min(u), np.max(u))\n",
    "ax.set_xlabel('Position')\n",
    "ax.set_ylabel('Temperature')\n",
    "plt.savefig('reverse_heat_equation.png')\n",
    "\n",
    "\n",
    "u_reversed = us[::-1]\n",
    "time_reversed = np.array(times)[::-1]\n",
    "time_template = 'Time elapsed {}' \n",
    "time_text = ax.text(0.95, 0.95, '', transform=ax.transAxes, ha='right', va='top')\n",
    "\n",
    "def update(frame):\n",
    "    tt = time_reversed[frame]#tt = frame**acceleration * time   \n",
    "    tt = int(tt)\n",
    "    time_text.set_text(time_template.format(tt))\n",
    "    line.set_ydata(u_reversed[frame, :])\n",
    "    return line, time_text\n",
    "\n",
    "ani = animation.FuncAnimation(fig, update, frames=n, blit=True)\n",
    "ani.save('reversed_heat_equation.mp4', writer='ffmpeg', fps=30)\n",
    "print('Done backwards animation')\n",
    "plt.show()\n"
   ]
  },
  {
   "cell_type": "code",
   "execution_count": 11,
   "id": "0da1f317-e384-42bd-8161-e911da57e380",
   "metadata": {},
   "outputs": [],
   "source": []
  },
  {
   "cell_type": "code",
   "execution_count": null,
   "id": "09cc60f0-bcd9-426d-8f3f-e5794f26cf91",
   "metadata": {},
   "outputs": [],
   "source": []
  },
  {
   "cell_type": "code",
   "execution_count": null,
   "id": "a06378e0-5100-424a-9baf-910113d7442e",
   "metadata": {},
   "outputs": [],
   "source": []
  },
  {
   "cell_type": "code",
   "execution_count": 23,
   "id": "1cd22def-1d37-4fd1-81f2-77d4f72c831c",
   "metadata": {},
   "outputs": [
    {
     "data": {
      "image/png": "[encoded data removed]",
      "text/plain": [
       "<Figure size 640x480 with 1 Axes>"
      ]
     },
     "metadata": {},
     "output_type": "display_data"
    }
   ],
   "source": [
    "import matplotlib.pyplot as plt\n",
    "import numpy as np\n",
    "from itertools import combinations\n",
    "\n",
    "# Function to check for circle overlap\n",
    "def circles_overlap(center1, center2, radius):\n",
    "    return np.linalg.norm(center1 - center2) < 2 * radius\n",
    "\n",
    "# Generate random points\n",
    "np.random.seed(18)\n",
    "points = np.random.rand(8, 2) * 10\n",
    "w = 0.1\n",
    "radius = 1.0 \n",
    "\n",
    "# Plotting\n",
    "fig, ax = plt.subplots()\n",
    "\n",
    "# Plot points and circles\n",
    "for point in points:\n",
    "    ax.plot(point[0], point[1], 'ro')  # Plot the point\n",
    "    circle = plt.Circle(point, radius, edgecolor='black', linestyle='--', fill=False)\n",
    "    ax.add_artist(circle)  # Add the circle\n",
    "    # Generate random angle for the arrow\n",
    "    angle = np.random.rand() * 2 * np.pi\n",
    "    dx = (radius-w) * np.cos(angle)\n",
    "    dy = (radius-w) * np.sin(angle)\n",
    "    ax.arrow(point[0], point[1], dx, dy, head_width=w, head_length=w, fc='black', ec='black', alpha=0.5)  # Arrow with opacity\n",
    "\n",
    "# Check for overlaps and mark with X\n",
    "for (i, j) in combinations(range(len(points)), 2):\n",
    "    if circles_overlap(points[i], points[j], radius):\n",
    "        midpoint = (points[i] + points[j]) / 2\n",
    "        ax.plot(midpoint[0], midpoint[1], 'kx')  # Mark overlap with 'X'\n",
    "\n",
    "# Set plot limits and remove axes\n",
    "ax.set_xlim(-1, 11)\n",
    "ax.set_ylim(-1, 11)\n",
    "ax.set_aspect('equal', adjustable='box')\n",
    "ax.axis('off')  # Remove the axes\n",
    "\n",
    "plt.savefig('constraints.png')\n",
    "plt.show()\n"
   ]
  },
  {
   "cell_type": "code",
   "execution_count": 7,
   "id": "4b0ae7c0-5f17-4e21-b9df-dd33ceb5f5f7",
   "metadata": {},
   "outputs": [
    {
     "data": {
      "image/png": "[encoded data removed]",
      "text/plain": [
       "<Figure size 640x480 with 1 Axes>"
      ]
     },
     "metadata": {},
     "output_type": "display_data"
    }
   ],
   "source": [
    "import matplotlib.pyplot as plt\n",
    "import numpy as np\n",
    "from itertools import combinations\n",
    "\n",
    "# Function to check for circle overlap\n",
    "def circles_overlap(center1, center2, radius):\n",
    "    return np.linalg.norm(center1 - center2) < 2 * radius\n",
    "\n",
    "# Function to find close points and merge them\n",
    "def merge_close_points(points, threshold):\n",
    "    merged = True\n",
    "    while merged:\n",
    "        merged = False\n",
    "        new_points = []\n",
    "        skip_indices = set()\n",
    "        for i, j in combinations(range(len(points)), 2):\n",
    "            if i not in skip_indices and j not in skip_indices:\n",
    "                if np.linalg.norm(points[i] - points[j]) < threshold:\n",
    "                    new_point = (points[i] + points[j]) / 2\n",
    "                    new_points.append(new_point)\n",
    "                    skip_indices.add(i)\n",
    "                    skip_indices.add(j)\n",
    "                    merged = True\n",
    "                    break\n",
    "        for i in range(len(points)):\n",
    "            if i not in skip_indices:\n",
    "                new_points.append(points[i])\n",
    "        points = np.array(new_points)\n",
    "    return points\n",
    "\n",
    "# Generate random points\n",
    "#np.random.seed(0)\n",
    "points = np.random.rand(10, 2) * 10\n",
    "radius = 1.0\n",
    "\n",
    "# Merge close points\n",
    "threshold_distance = 2 * radius\n",
    "points = merge_close_points(points, threshold_distance)\n",
    "\n",
    "# Plotting\n",
    "fig, ax = plt.subplots()\n",
    "\n",
    "# Plot points and circles\n",
    "for point in points:\n",
    "    ax.plot(point[0], point[1], 'ro')  # Plot the point\n",
    "    circle = plt.Circle(point, radius, edgecolor='black', linestyle='--', fill=False)\n",
    "    ax.add_artist(circle)  # Add the circle\n",
    "    # Generate random angle for the arrow\n",
    "    angle = np.random.rand() * 2 * np.pi\n",
    "    dx = radius * np.cos(angle)\n",
    "    dy = radius * np.sin(angle)\n",
    "    ax.arrow(point[0], point[1], dx, dy, head_width=0.1, head_length=0.1, fc='black', ec='black', alpha=0.5)  # Arrow with opacity\n",
    "\n",
    "# Check for overlaps and mark with X\n",
    "for (i, j) in combinations(range(len(points)), 2):\n",
    "    if circles_overlap(points[i], points[j], radius):\n",
    "        midpoint = (points[i] + points[j]) / 2\n",
    "        ax.plot(midpoint[0], midpoint[1], 'kx')  # Mark overlap with 'X'\n",
    "\n",
    "# Set plot limits and remove axes\n",
    "ax.set_xlim(-1, 11)\n",
    "ax.set_ylim(-1, 11)\n",
    "ax.set_aspect('equal', adjustable='box')\n",
    "ax.axis('off')  # Remove the axes\n",
    "\n",
    "plt.show()\n"
   ]
  },
  {
   "cell_type": "code",
   "execution_count": 8,
   "id": "cf928e69-bdfa-4673-be07-8c2f2b44787b",
   "metadata": {},
   "outputs": [
    {
     "data": {
      "image/png": "[encoded data removed]",
      "text/plain": [
       "<Figure size 640x480 with 1 Axes>"
      ]
     },
     "metadata": {},
     "output_type": "display_data"
    }
   ],
   "source": [
    "import matplotlib.pyplot as plt\n",
    "import numpy as np\n",
    "from itertools import combinations\n",
    "\n",
    "# Function to check for circle overlap\n",
    "def circles_overlap(center1, center2, radius):\n",
    "    return np.linalg.norm(center1 - center2) < 2 * radius\n",
    "\n",
    "# Function to find close points and merge them, while keeping old points\n",
    "def merge_close_points(points, threshold):\n",
    "    merged = True\n",
    "    old_points = []\n",
    "    while merged:\n",
    "        merged = False\n",
    "        new_points = []\n",
    "        skip_indices = set()\n",
    "        for i, j in combinations(range(len(points)), 2):\n",
    "            if i not in skip_indices and j not in skip_indices:\n",
    "                if np.linalg.norm(points[i] - points[j]) < threshold:\n",
    "                    new_point = (points[i] + points[j]) / 2\n",
    "                    new_points.append(new_point)\n",
    "                    old_points.append(points[i])\n",
    "                    old_points.append(points[j])\n",
    "                    skip_indices.add(i)\n",
    "                    skip_indices.add(j)\n",
    "                    merged = True\n",
    "                    break\n",
    "        for i in range(len(points)):\n",
    "            if i not in skip_indices:\n",
    "                new_points.append(points[i])\n",
    "        points = np.array(new_points)\n",
    "    return points, old_points\n",
    "\n",
    "# Generate random points\n",
    "np.random.seed(0)\n",
    "points = np.random.rand(10, 2) * 10\n",
    "radius = 1.0\n",
    "\n",
    "# Merge close points\n",
    "threshold_distance = 2 * radius\n",
    "new_points, old_points = merge_close_points(points, threshold_distance)\n",
    "\n",
    "# Plotting\n",
    "fig, ax = plt.subplots()\n",
    "\n",
    "# Plot old points and circles in pale red\n",
    "for point in old_points:\n",
    "    ax.plot(point[0], point[1], 'ro', alpha=0.3)  # Plot the old point\n",
    "    circle = plt.Circle(point, radius, edgecolor='black', linestyle='--', fill=False, alpha=0.3)\n",
    "    ax.add_artist(circle)  # Add the circle\n",
    "    # Generate random angle for the arrow\n",
    "    angle = np.random.rand() * 2 * np.pi\n",
    "    dx = radius * np.cos(angle)\n",
    "    dy = radius * np.sin(angle)\n",
    "    ax.arrow(point[0], point[1], dx, dy, head_width=0.1, head_length=0.1, fc='black', ec='black', alpha=0.3)  # Arrow with opacity\n",
    "\n",
    "# Plot new points without circles\n",
    "for point in new_points:\n",
    "    ax.plot(point[0], point[1], 'ro')  # Plot the new point\n",
    "\n",
    "# Check for overlaps and mark with X\n",
    "for (i, j) in combinations(range(len(new_points)), 2):\n",
    "    if circles_overlap(new_points[i], new_points[j], radius):\n",
    "        midpoint = (new_points[i] + new_points[j]) / 2\n",
    "        ax.plot(midpoint[0], midpoint[1], 'kx')  # Mark overlap with 'X'\n",
    "\n",
    "# Set plot limits and remove axes\n",
    "ax.set_xlim(-1, 11)\n",
    "ax.set_ylim(-1, 11)\n",
    "ax.set_aspect('equal', adjustable='box')\n",
    "ax.axis('off')  # Remove the axes\n",
    "\n",
    "plt.show()\n"
   ]
  },
  {
   "cell_type": "code",
   "execution_count": 12,
   "id": "e052cf66-ffdb-4255-bbe0-cf7cdecbf69b",
   "metadata": {},
   "outputs": [
    {
     "data": {
      "image/png": "[encoded data removed]",
      "text/plain": [
       "<Figure size 640x480 with 1 Axes>"
      ]
     },
     "metadata": {},
     "output_type": "display_data"
    }
   ],
   "source": [
    "import matplotlib.pyplot as plt\n",
    "import numpy as np\n",
    "from itertools import combinations\n",
    "\n",
    "# Function to check for circle overlap\n",
    "def circles_overlap(center1, center2, radius):\n",
    "    return np.linalg.norm(center1 - center2) < 2 * radius\n",
    "\n",
    "# Function to find close points and merge them, while keeping old points\n",
    "def merge_close_points(points, threshold):\n",
    "    merged = True\n",
    "    old_points = []\n",
    "    while merged:\n",
    "        merged = False\n",
    "        new_points = []\n",
    "        skip_indices = set()\n",
    "        for i, j in combinations(range(len(points)), 2):\n",
    "            if i not in skip_indices and j not in skip_indices:\n",
    "                if np.linalg.norm(points[i] - points[j]) < threshold:\n",
    "                    new_point = (points[i] + points[j]) / 2\n",
    "                    new_points.append(new_point)\n",
    "                    old_points.append(points[i])\n",
    "                    old_points.append(points[j])\n",
    "                    skip_indices.add(i)\n",
    "                    skip_indices.add(j)\n",
    "                    merged = True\n",
    "                    break\n",
    "        for i in range(len(points)):\n",
    "            if i not in skip_indices:\n",
    "                new_points.append(points[i])\n",
    "        points = np.array(new_points)\n",
    "    return points, old_points\n",
    "\n",
    "# Generate random points\n",
    "np.random.seed(0)\n",
    "points = np.random.rand(10, 2) * 10\n",
    "radius = 1.0\n",
    "\n",
    "# Merge close points\n",
    "threshold_distance = 2 * radius\n",
    "new_points, old_points = merge_close_points(points, threshold_distance)\n",
    "\n",
    "# Plotting\n",
    "fig, ax = plt.subplots()\n",
    "\n",
    "# Plot old points and circles in pale red\n",
    "for point in old_points:\n",
    "    ax.plot(point[0], point[1], 'ro', alpha=0.3)  # Plot the old point\n",
    "    circle = plt.Circle(point, radius, edgecolor='black', linestyle='--', fill=False)\n",
    "    ax.add_artist(circle)  # Add the circle\n",
    "\n",
    "# Plot new points without circles\n",
    "for point in new_points:\n",
    "    ax.plot(point[0], point[1], 'ro')  # Plot the new point\n",
    "\n",
    "# Check for overlaps and mark with X\n",
    "for (i, j) in combinations(range(len(new_points)), 2):\n",
    "    if circles_overlap(new_points[i], new_points[j], radius):\n",
    "        midpoint = (new_points[i] + new_points[j]) / 2\n",
    "        ax.plot(midpoint[0], midpoint[1], 'kx')  # Mark overlap with 'X'\n",
    "\n",
    "# Set plot limits and remove axes\n",
    "ax.set_xlim(-1, 11)\n",
    "ax.set_ylim(-1, 11)\n",
    "ax.set_aspect('equal', adjustable='box')\n",
    "ax.axis('off')  # Remove the axes\n",
    "\n",
    "plt.show()\n"
   ]
  },
  {
   "cell_type": "code",
   "execution_count": null,
   "id": "ad72e441-9b41-4850-8313-1e0f942ede16",
   "metadata": {
    "jupyter": {
     "is_executing": true
    }
   },
   "outputs": [],
   "source": []
  },
  {
   "cell_type": "code",
   "execution_count": null,
   "id": "7acb176e-5cbe-4557-8dc5-7d4975eba1d1",
   "metadata": {
    "jupyter": {
     "is_executing": true
    }
   },
   "outputs": [],
   "source": []
  },
  {
   "cell_type": "code",
   "execution_count": null,
   "id": "cd284789-f1ad-4c12-bc99-43d27e211d98",
   "metadata": {},
   "outputs": [],
   "source": []
  },
  {
   "cell_type": "markdown",
   "id": "da138f2f4e0fd9d8",
   "metadata": {},
   "source": [
    "# Figure for talk"
   ]
  },
  {
   "cell_type": "code",
   "execution_count": 109,
   "id": "79b6761a-aae3-4773-a520-ee6613e8db23",
   "metadata": {},
   "outputs": [
    {
     "data": {
      "image/png": "[encoded data removed]",
      "text/plain": [
       "<Figure size 500x500 with 1 Axes>"
      ]
     },
     "metadata": {},
     "output_type": "display_data"
    }
   ],
   "source": [
    "grid = np.linspace(0, 2*np.pi, num=200)\n",
    "\n",
    "circle = np.vstack([np.sin(grid), np.cos(grid)]).T\n",
    "\n",
    "x1 = np.array([0.9,0])\n",
    "circ1 = circle + x1\n",
    "ind = np.where(circ1[:,0] > 0)[0]\n",
    "shift = -np.diff(ind).argmax()-1\n",
    "circ1 = np.roll(circ1, shift, axis=0)\n",
    "ii = np.where(circ1[:,0] > 0)[0]\n",
    "circ1 = circ1[ii,:]\n",
    "\n",
    "\n",
    "circ2 = circ1.copy()\n",
    "circ2[:,0] = -circ2[:,0]\n",
    "\n",
    "plt.figure(figsize=(5,5))\n",
    "plt.plot(circ1[:,0], circ1[:,1], color='k')\n",
    "plt.plot(circ2[:,0], circ2[:,1], color='k')\n",
    "\n",
    "\n",
    "plt.scatter(0,0, color='r')\n",
    "plt.scatter([0.9, -0.9], [0,0], color='r', alpha=0.4)\n",
    "\n",
    "plt.arrow(0.85, 0, -0.65, 0, head_width=0.05, head_length=0.1, fc='r', ec='r')\n",
    "plt.arrow(-0.85, 0, 0.65, 0, head_width=0.05, head_length=0.1, fc='r', ec='r')\n",
    "\n",
    "plt.xlim(-2,2)\n",
    "plt.ylim(-2,2)\n",
    "\n",
    "plt.gca().set_aspect('equal', adjustable='box')\n",
    "\n",
    "# Remove the plot border (spines)\n",
    "for spine in plt.gca().spines.values():\n",
    "    spine.set_visible(False)\n",
    "\n",
    "plt.xticks([])\n",
    "plt.yticks([])\n",
    "\n",
    "plt.savefig('merge.png')"
   ]
  },
  {
   "cell_type": "code",
   "execution_count": 47,
   "id": "2a6be7eb-6fdf-4a96-857c-5bf2690c09dc",
   "metadata": {},
   "outputs": [
    {
     "data": {
      "text/plain": [
       "array([[ 6.00000000e-01,  1.00000000e+00],\n",
       "       [ 6.00000000e-01,  1.00000000e+00],\n",
       "       [ 6.00000000e-01, -1.00000000e+00],\n",
       "       [ 1.30710678e+00,  7.07106781e-01],\n",
       "       [ 1.30710678e+00, -7.07106781e-01],\n",
       "       [ 1.60000000e+00,  6.12323400e-17]])"
      ]
     },
     "execution_count": 47,
     "metadata": {},
     "output_type": "execute_result"
    }
   ],
   "source": []
  },
  {
   "cell_type": "code",
   "execution_count": null,
   "id": "ef256f38-5fb7-473c-8c94-9ba025a1f95d",
   "metadata": {
    "jupyter": {
     "is_executing": true
    }
   },
   "outputs": [],
   "source": []
  },
  {
   "cell_type": "code",
   "execution_count": null,
   "id": "7eb1d4a5-e3ff-4d30-aead-afdb9e3a25d1",
   "metadata": {},
   "outputs": [],
   "source": []
  }
 ],
 "metadata": {
  "kernelspec": {
   "display_name": "Python 3 (ipykernel)",
   "language": "python",
   "name": "python3"
  },
  "language_info": {
   "codemirror_mode": {
    "name": "ipython",
    "version": 3
   },
   "file_extension": ".py",
   "mimetype": "text/x-python",
   "name": "python",
   "nbconvert_exporter": "python",
   "pygments_lexer": "ipython3",
   "version": "3.11.7"
  }
 },
 "nbformat": 4,
 "nbformat_minor": 5
}
