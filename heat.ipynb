{
 "cells": [
  {
   "cell_type": "code",
   "execution_count": 3,
   "metadata": {},
   "outputs": [
    {
     "data": {
      "text/plain": [
       "array([ 0.        , -0.06669045, -0.06669045, -1.21523734])"
      ]
     },
     "execution_count": 3,
     "metadata": {},
     "output_type": "execute_result"
    }
   ],
   "source": [
    "import numpy as np\n",
    "\n",
    "from src.multiplier import FourierMultiplier as FM\n",
    "from src.observations import PointObservation as Point\n",
    "\n",
    "n = 53\n",
    "\n",
    "meas = np.arange(1,n) / n\n",
    "meas = np.random.uniform(size=n)\n",
    "\n",
    "obs = Point(meas, N=1000)\n",
    "\n",
    "O = obs.matrix\n",
    "D, P = np.linalg.eigh(O.T @ O)\n",
    "\n",
    "res = obs.shape[0], D.sum(), np.sum(obs.eigenvalues()), np.sum(np.sqrt(obs.eigenvalues())) \n",
    "res = np.array(res) - res[0]\n",
    "res"
   ]
  },
  {
   "cell_type": "code",
   "execution_count": null,
   "metadata": {},
   "outputs": [],
   "source": []
  }
 ],
 "metadata": {
  "kernelspec": {
   "display_name": "Python 3",
   "language": "python",
   "name": "python3"
  },
  "language_info": {
   "codemirror_mode": {
    "name": "ipython",
    "version": 3
   },
   "file_extension": ".py",
   "mimetype": "text/x-python",
   "name": "python",
   "nbconvert_exporter": "python",
   "pygments_lexer": "ipython3",
   "version": "3.8.10"
  }
 },
 "nbformat": 4,
 "nbformat_minor": 4
}
