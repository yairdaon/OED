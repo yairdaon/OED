{
 "cells": [
  {
   "cell_type": "code",
   "execution_count": 21,
   "metadata": {},
   "outputs": [
    {
     "data": {
      "text/plain": [
       "(1.0056463949401968, 0.995990381640036)"
      ]
     },
     "execution_count": 21,
     "metadata": {},
     "output_type": "execute_result"
    }
   ],
   "source": [
    "import numpy as np\n",
    "\n",
    "from src.multiplier import FourierMultiplier as FM\n",
    "from src.observations import PointObservation as Point\n",
    "from src.probability import Posterior\n",
    "\n",
    "m = 50\n",
    "N = 777\n",
    "L = 4\n",
    "transform = 'dct'\n",
    "meas = np.random.uniform(low=0, high=L, size=m)\n",
    "#meas = np.random.randint(low=0, high=N, size=m) / N\n",
    "obs = Point(N=N, L=L, measurements=meas, transform=transform)\n",
    "norms = [obs.norm(x) for x in obs.multiplier]\n",
    "np.max(norms), np.min(norms)"
   ]
  },
  {
   "cell_type": "code",
   "execution_count": 6,
   "metadata": {},
   "outputs": [
    {
     "data": {
      "text/plain": [
       "array([7.08489954, 7.07478397, 7.06653889, 7.07783239, 7.08064943,\n",
       "       7.06981624, 7.0908226 ])"
      ]
     },
     "execution_count": 6,
     "metadata": {},
     "output_type": "execute_result"
    }
   ],
   "source": []
  },
  {
   "cell_type": "code",
   "execution_count": 26,
   "metadata": {},
   "outputs": [
    {
     "data": {
      "text/plain": [
       "5.996360119643977"
      ]
     },
     "execution_count": 26,
     "metadata": {},
     "output_type": "execute_result"
    }
   ],
   "source": []
  },
  {
   "cell_type": "code",
   "execution_count": null,
   "metadata": {},
   "outputs": [],
   "source": []
  }
 ],
 "metadata": {
  "kernelspec": {
   "display_name": "Python 3",
   "language": "python",
   "name": "python3"
  },
  "language_info": {
   "codemirror_mode": {
    "name": "ipython",
    "version": 3
   },
   "file_extension": ".py",
   "mimetype": "text/x-python",
   "name": "python",
   "nbconvert_exporter": "python",
   "pygments_lexer": "ipython3",
   "version": "3.8.10"
  }
 },
 "nbformat": 4,
 "nbformat_minor": 4
}
