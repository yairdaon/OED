{
 "cells": [
  {
   "cell_type": "code",
   "execution_count": 2,
   "metadata": {},
   "outputs": [
    {
     "name": "stdout",
     "output_type": "stream",
     "text": [
      "Using matplotlib backend: QtAgg\n"
     ]
    },
    {
     "name": "stderr",
     "output_type": "stream",
     "text": [
      "Warning: Ignoring XDG_SESSION_TYPE=wayland on Gnome. Use QT_QPA_PLATFORM=wayland to run on Wayland anyway.\n"
     ]
    }
   ],
   "source": [
    "import numpy as np\n",
    "from matplotlib import pyplot as plt\n",
    "\n",
    "from importlib import reload\n",
    "import src.probability\n",
    "reload(src.probability)\n",
    "reload(src.multiplier)\n",
    "reload(src.observations)\n",
    "from src.probability import Prior, Posterior\n",
    "from src.multiplier import FourierMultiplier\n",
    "from src.forward import Heat\n",
    "from src.observations import PointObservation, DiagObservation\n",
    "\n",
    "\n",
    "%matplotlib"
   ]
  },
  {
   "cell_type": "code",
   "execution_count": 105,
   "metadata": {},
   "outputs": [
    {
     "name": "stdout",
     "output_type": "stream",
     "text": [
      "dst 2 [0.31163064 0.68336936]\n",
      "dst 3 [0.31319488 0.31319488 0.68985848]\n",
      "dst 4 [0.3066907  0.30669071 0.68830929 0.68830932]\n",
      "dst 5 [0.28343313 0.28343322 0.49749991 0.71156683 0.71156684]\n",
      "dct 2 [0.     0.9975]\n",
      "dct 3 [0.         0.49750556 0.9975    ]\n",
      "dct 4 [0.         0.49469032 0.9975     0.9975    ]\n",
      "dct 5 [0.         0.         0.49750558 0.9975     0.9975    ]\n"
     ]
    }
   ],
   "source": [
    "sig = 5e-2\n",
    "\n",
    "N = 200\n",
    "L = 1\n",
    "time = 3e-2\n",
    "alpha = 1.\n",
    "gamma = -1.\n",
    "\n",
    "## DST /DCT - discrete (co)sine transform. \n",
    "## Corresponds to a homogeneous Dirichlet/ Neumann boundary condition.\n",
    "## Clusterization also works with Neumann boundary, I just chose to present \n",
    "## Dirichlet boundary\n",
    "dst, dct = {}, {}\n",
    "for transform in  ['dst', 'dct']:\n",
    "    delta = 0. if transform == 'dst' else 0.5\n",
    "    fwd = Heat(N=N, L=L, transform=transform, alpha=alpha, time=time)\n",
    "    pr = Prior(N=N, L=L, transform=transform, gamma=gamma, delta=delta)\n",
    "    post = Posterior(fwd=fwd,\n",
    "                     prior=pr,\n",
    "                     sigSqr=sig**2,\n",
    "                     L=L,\n",
    "                     N=N,\n",
    "                     transform=transform)\n",
    "    dic = dst if transform == 'dst' else dct\n",
    "    for m in range(2, 6):\n",
    "        res = post.optimize(m=m, n_iterations=250)\n",
    "        design = res['x']\n",
    "        dic[m] = design\n",
    "        print(transform, m, design)\n"
   ]
  },
  {
   "cell_type": "code",
   "execution_count": 102,
   "metadata": {},
   "outputs": [],
   "source": [
    "plt.close('all')\n",
    "\n",
    "fig, ax = plt.subplots(figsize=(10,5))\n",
    "\n",
    "for m, array in dst.items():\n",
    "    vals = np.repeat(m, len(array))\n",
    "    ax.scatter(array, vals, s=0)\n",
    "\n",
    "    for i, val in enumerate(array):\n",
    "        ax.annotate(str(i+1), xy=(val, m+np.random.randn()*0), ha='center', va='center', fontsize=20)\n",
    "            \n",
    "ax.set_xlabel('Measurement Location', fontsize=22)\n",
    "ax.set_ylabel('No. of Measuremnts', fontsize=22)\n",
    "plt.tight_layout()\n",
    "\n",
    "plt.savefig(\"latex/example.eps\")"
   ]
  },
  {
   "cell_type": "code",
   "execution_count": null,
   "metadata": {},
   "outputs": [],
   "source": []
  },
  {
   "cell_type": "code",
   "execution_count": null,
   "metadata": {},
   "outputs": [],
   "source": []
  },
  {
   "cell_type": "code",
   "execution_count": null,
   "metadata": {},
   "outputs": [],
   "source": []
  },
  {
   "cell_type": "code",
   "execution_count": null,
   "metadata": {},
   "outputs": [],
   "source": []
  }
 ],
 "metadata": {
  "kernelspec": {
   "display_name": "Python 3 (ipykernel)",
   "language": "python",
   "name": "python3"
  },
  "language_info": {
   "codemirror_mode": {
    "name": "ipython",
    "version": 3
   },
   "file_extension": ".py",
   "mimetype": "text/x-python",
   "name": "python",
   "nbconvert_exporter": "python",
   "pygments_lexer": "ipython3",
   "version": "3.9.15"
  }
 },
 "nbformat": 4,
 "nbformat_minor": 4
}
